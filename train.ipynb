{
 "cells": [
  {
   "cell_type": "code",
   "execution_count": 1,
   "metadata": {
    "collapsed": true
   },
   "outputs": [],
   "source": [
    "import torch\n",
    "from torch import optim\n",
    "from torch.autograd import Variable\n",
    "from torch.utils.data import DataLoader"
   ]
  },
  {
   "cell_type": "code",
   "execution_count": 2,
   "metadata": {
    "collapsed": true
   },
   "outputs": [],
   "source": [
    "from importlib import reload\n",
    "# import [module]\n",
    "# importlib.reload([module])"
   ]
  },
  {
   "cell_type": "code",
   "execution_count": 3,
   "metadata": {
    "collapsed": true
   },
   "outputs": [],
   "source": [
    "import numpy as np\n",
    "import matplotlib.pyplot as plt\n",
    "def show(x):\n",
    "    plt.imshow(x)\n",
    "    plt.show()"
   ]
  },
  {
   "cell_type": "code",
   "execution_count": 4,
   "metadata": {
    "collapsed": true
   },
   "outputs": [],
   "source": [
    "import custom.models\n",
    "reload(custom.models)\n",
    "from custom.models import u_net, u_net_res, seg_net"
   ]
  },
  {
   "cell_type": "code",
   "execution_count": 5,
   "metadata": {},
   "outputs": [
    {
     "name": "stderr",
     "output_type": "stream",
     "text": [
      "/root/.pyenv/versions/anaconda3-4.4.0/lib/python3.6/site-packages/requests/__init__.py:80: RequestsDependencyWarning: urllib3 (1.16) or chardet (3.0.4) doesn't match a supported version!\n",
      "  RequestsDependencyWarning)\n"
     ]
    }
   ],
   "source": [
    "from custom.models import u_net, seg_net\n",
    "from custom.utils import conditioned_inverse\n",
    "from custom.datasets import nuclei_dataset, nuclei_dataset_gen\n",
    "from custom.loss import weighted_bce_loss_with_logits as loss_func"
   ]
  },
  {
   "cell_type": "code",
   "execution_count": 6,
   "metadata": {},
   "outputs": [
    {
     "name": "stdout",
     "output_type": "stream",
     "text": [
      "645.9010012149811\n"
     ]
    }
   ],
   "source": [
    "import time\n",
    "ts = time.time()\n",
    "nuclei_dataset_df = nuclei_dataset_gen(path='../data/stage1_train/')\n",
    "te = time.time()\n",
    "print(te - ts)"
   ]
  },
  {
   "cell_type": "code",
   "execution_count": 7,
   "metadata": {
    "collapsed": true
   },
   "outputs": [],
   "source": [
    "dataset = nuclei_dataset(nuclei_dataset_df)"
   ]
  },
  {
   "cell_type": "code",
   "execution_count": 8,
   "metadata": {
    "collapsed": true
   },
   "outputs": [],
   "source": [
    "train_loader = DataLoader(dataset,batch_size=16, shuffle=True)\n",
    "test_loader = DataLoader(nuclei_dataset(nuclei_dataset_df, train=False), batch_size=16)"
   ]
  },
  {
   "cell_type": "code",
   "execution_count": 10,
   "metadata": {},
   "outputs": [],
   "source": [
    "# del model\n",
    "torch.cuda.empty_cache()"
   ]
  },
  {
   "cell_type": "code",
   "execution_count": 11,
   "metadata": {},
   "outputs": [
    {
     "data": {
      "text/plain": [
       "seg_net(\n",
       "  (conv1_3): Conv2d(1, 32, kernel_size=(3, 3), stride=(1, 1), padding=(1, 1))\n",
       "  (conv1_5): Conv2d(1, 32, kernel_size=(5, 5), stride=(1, 1), padding=(2, 2))\n",
       "  (conv1_7): Conv2d(1, 64, kernel_size=(7, 7), stride=(1, 1), padding=(3, 3))\n",
       "  (norm1): BatchNorm2d(129, eps=1e-05, momentum=0.1, affine=True)\n",
       "  (conv2_1): Conv2d(129, 1, kernel_size=(1, 1), stride=(1, 1))\n",
       "  (conv2_3): Conv2d(129, 1, kernel_size=(3, 3), stride=(1, 1), padding=(1, 1))\n",
       "  (conv2_5): Conv2d(129, 1, kernel_size=(5, 5), stride=(1, 1), padding=(2, 2))\n",
       "  (conv2_7): Conv2d(129, 1, kernel_size=(7, 7), stride=(1, 1), padding=(3, 3))\n",
       "  (norm2): BatchNorm2d(4, eps=1e-05, momentum=0.1, affine=True)\n",
       "  (conv3): Conv2d(4, 1, kernel_size=(1, 1), stride=(1, 1))\n",
       ")"
      ]
     },
     "execution_count": 11,
     "metadata": {},
     "output_type": "execute_result"
    }
   ],
   "source": [
    "# model = u_net(bn=True)\n",
    "# model = u_net_res()\n",
    "# model = u_net(bn=False)\n",
    "# model.load_state_dict(torch.load('./models/unbn_1'))\n",
    "model = seg_net()\n",
    "model.cuda()"
   ]
  },
  {
   "cell_type": "code",
   "execution_count": 12,
   "metadata": {
    "collapsed": true
   },
   "outputs": [],
   "source": [
    "optimizer = optim.Adam(model.parameters(), lr=1e-3)\n",
    "# optimizer = optim.SGD(model.parameters(), lr=1e-3, momentum=0.9)"
   ]
  },
  {
   "cell_type": "code",
   "execution_count": 13,
   "metadata": {
    "collapsed": true
   },
   "outputs": [],
   "source": [
    "from torchvision.utils import save_image\n",
    "def train(epoch):\n",
    "    model.train()\n",
    "    train_loss = 0\n",
    "    for batch_idx, (input, target, weight) in enumerate(train_loader):\n",
    "        input = Variable(input).cuda()\n",
    "        target = Variable(target).cuda()\n",
    "        weight = Variable(weight).cuda()\n",
    "        optimizer.zero_grad()\n",
    "        output = model(input)\n",
    "        loss = loss_func(output, target, weight)\n",
    "        loss.backward()\n",
    "        train_loss += loss.data[0]\n",
    "        optimizer.step()\n",
    "        if batch_idx == 0:\n",
    "            n = 8\n",
    "            comparison = torch.cat([input[:n], output[:n]])\n",
    "            save_image(comparison.data.cpu(),\n",
    "                     './results/train_' + str(epoch) + '.png', nrow=n)\n",
    "\n",
    "    print('====> Epoch: {} Average loss: {:.4f}'.format(\n",
    "          epoch, train_loss / len(train_loader.dataset)))"
   ]
  },
  {
   "cell_type": "code",
   "execution_count": 14,
   "metadata": {
    "collapsed": true
   },
   "outputs": [],
   "source": [
    "from torchvision.utils import save_image\n",
    "def test(epoch):\n",
    "    model.eval()\n",
    "    test_loss = 0\n",
    "    for i, (input, target, weight) in enumerate(test_loader):\n",
    "        input = Variable(input).cuda()\n",
    "        target = Variable(target).cuda()\n",
    "        weight = Variable(weight).cuda()\n",
    "        output = model(input)\n",
    "        test_loss += loss_func(output, target, weight).data[0]\n",
    "        if i == 0:\n",
    "            n = 8\n",
    "            comparison = torch.cat([input[:n], output[:n]])\n",
    "            save_image(comparison.data.cpu(),\n",
    "                     './results/test_' + str(epoch) + '.png', nrow=n)\n",
    "\n",
    "    test_loss /= len(test_loader.dataset)\n",
    "    print('====> Test set loss: {:.4f}'.format(test_loss))"
   ]
  },
  {
   "cell_type": "code",
   "execution_count": 15,
   "metadata": {},
   "outputs": [
    {
     "name": "stdout",
     "output_type": "stream",
     "text": [
      "====> Epoch: 1 Average loss: 0.8473\n",
      "====> Test set loss: 0.9167\n",
      "====> Epoch: 2 Average loss: 0.8315\n",
      "====> Test set loss: 0.9008\n",
      "====> Epoch: 3 Average loss: 0.8160\n",
      "====> Test set loss: 0.9246\n",
      "====> Epoch: 4 Average loss: 0.8006\n",
      "====> Test set loss: 0.8812\n",
      "====> Epoch: 5 Average loss: 0.7787\n",
      "====> Test set loss: 0.8933\n",
      "====> Epoch: 6 Average loss: 0.7683\n",
      "====> Test set loss: 0.7987\n",
      "====> Epoch: 7 Average loss: 0.7583\n",
      "====> Test set loss: 0.7996\n",
      "====> Epoch: 8 Average loss: 0.7461\n",
      "====> Test set loss: 0.8211\n",
      "====> Epoch: 9 Average loss: 0.7454\n",
      "====> Test set loss: 0.8113\n",
      "====> Epoch: 10 Average loss: 0.7380\n",
      "====> Test set loss: 0.7650\n",
      "====> Epoch: 11 Average loss: 0.7322\n",
      "====> Test set loss: 0.9139\n",
      "====> Epoch: 12 Average loss: 0.7359\n",
      "====> Test set loss: 0.7631\n",
      "====> Epoch: 13 Average loss: 0.7310\n",
      "====> Test set loss: 0.9408\n",
      "====> Epoch: 14 Average loss: 0.7258\n",
      "====> Test set loss: 0.7396\n",
      "====> Epoch: 15 Average loss: 0.7219\n",
      "====> Test set loss: 0.8886\n",
      "====> Epoch: 16 Average loss: 0.7234\n",
      "====> Test set loss: 0.9063\n",
      "====> Epoch: 17 Average loss: 0.7147\n",
      "====> Test set loss: 1.0586\n",
      "====> Epoch: 18 Average loss: 0.7150\n",
      "====> Test set loss: 0.7612\n",
      "====> Epoch: 19 Average loss: 0.7086\n",
      "====> Test set loss: 0.7634\n",
      "====> Epoch: 20 Average loss: 0.7024\n",
      "====> Test set loss: 0.7389\n"
     ]
    }
   ],
   "source": [
    "torch.cuda.empty_cache()\n",
    "epochs = 20\n",
    "for epoch in range(1, epochs + 1):\n",
    "    train(epoch)\n",
    "    test(epoch)\n",
    "#\n"
   ]
  },
  {
   "cell_type": "code",
   "execution_count": 16,
   "metadata": {
    "collapsed": true
   },
   "outputs": [],
   "source": [
    "torch.save(model.state_dict(), './models/segnet_1')"
   ]
  }
 ],
 "metadata": {
  "kernelspec": {
   "display_name": "Python 3",
   "language": "python",
   "name": "python3"
  },
  "language_info": {
   "codemirror_mode": {
    "name": "ipython",
    "version": 3
   },
   "file_extension": ".py",
   "mimetype": "text/x-python",
   "name": "python",
   "nbconvert_exporter": "python",
   "pygments_lexer": "ipython3",
   "version": "3.6.2"
  }
 },
 "nbformat": 4,
 "nbformat_minor": 2
}
