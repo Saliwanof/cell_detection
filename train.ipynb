{
 "cells": [
  {
   "cell_type": "code",
   "execution_count": 1,
   "metadata": {
    "collapsed": true
   },
   "outputs": [],
   "source": [
    "import torch\n",
    "from torch import optim\n",
    "from torch.autograd import Variable\n",
    "from torch.utils.data import DataLoader"
   ]
  },
  {
   "cell_type": "code",
   "execution_count": 2,
   "metadata": {
    "collapsed": true
   },
   "outputs": [],
   "source": [
    "import importlib\n",
    "# import [module]\n",
    "# importlib.reload([module])"
   ]
  },
  {
   "cell_type": "code",
   "execution_count": null,
   "metadata": {},
   "outputs": [
    {
     "name": "stderr",
     "output_type": "stream",
     "text": [
      "/root/.pyenv/versions/anaconda3-4.4.0/lib/python3.6/site-packages/requests/__init__.py:80: RequestsDependencyWarning: urllib3 (1.16) or chardet (3.0.4) doesn't match a supported version!\n",
      "  RequestsDependencyWarning)\n"
     ]
    }
   ],
   "source": [
    "from custom.models import u_net\n",
    "from custom.utils import conditioned_inverse\n",
    "from custom.datasets import nuclei_dataset, nuclei_dataset_gen\n",
    "from custom.loss import weighted_bce_loss_with_logits as loss_func"
   ]
  },
  {
   "cell_type": "code",
   "execution_count": null,
   "metadata": {},
   "outputs": [
    {
     "name": "stderr",
     "output_type": "stream",
     "text": [
      "/home/data/notebook/data/yujie/cell_segmentation/cell_detection/custom/datasets.py:100: RuntimeWarning: invalid value encountered in greater\n",
      "  dist_large_value_idx = dist > 10\n",
      "/home/data/notebook/data/yujie/cell_segmentation/cell_detection/custom/datasets.py:102: RuntimeWarning: overflow encountered in power\n",
      "  weight = get_weight_c(mask) + np.where(dist_large_value_idx, .003, 10 * np.exp(-2 * np.power(dist, 2) / np.power(sigma, 2)))\n",
      "/home/data/notebook/data/yujie/cell_segmentation/cell_detection/custom/datasets.py:94: RuntimeWarning: invalid value encountered in logical_or\n",
      "  mask = np.logical_or(mask_, mask)\n",
      "/home/data/notebook/data/yujie/cell_segmentation/cell_detection/custom/datasets.py:114: UserWarning: class_0 count zero!\n",
      "  warnings.warn(\"class_0 count zero!\")\n",
      "/home/data/notebook/data/yujie/cell_segmentation/cell_detection/custom/datasets.py:102: RuntimeWarning: invalid value encountered in power\n",
      "  weight = get_weight_c(mask) + np.where(dist_large_value_idx, .003, 10 * np.exp(-2 * np.power(dist, 2) / np.power(sigma, 2)))\n",
      "/home/data/notebook/data/yujie/cell_segmentation/cell_detection/custom/datasets.py:102: RuntimeWarning: invalid value encountered in multiply\n",
      "  weight = get_weight_c(mask) + np.where(dist_large_value_idx, .003, 10 * np.exp(-2 * np.power(dist, 2) / np.power(sigma, 2)))\n"
     ]
    }
   ],
   "source": [
    "nuclei_dataset_df = nuclei_dataset_gen(path='../data/stage1_train/')"
   ]
  },
  {
   "cell_type": "code",
   "execution_count": null,
   "metadata": {},
   "outputs": [],
   "source": [
    "train_loader = DataLoader(nuclei_dataset(nuclei_dataset_df),batch_size=8, shuffle=True)\n",
    "test_loader = DataLoader(nuclei_dataset(nuclei_dataset_df, train=False), batch_size=8)\n",
    "\n",
    "# train_loader = DataLoader(nuclei_dataset(main_path='../data/stage1_train/data.csv', transform=custom_transform, from_saved=True), \n",
    "#                          batch_size=8, shuffle=True)\n",
    "# test_loader = DataLoader(nuclei_dataset(main_path='../data/stage1_train/data.csv', train=False, from_saved=True), batch_size=8)"
   ]
  },
  {
   "cell_type": "code",
   "execution_count": null,
   "metadata": {},
   "outputs": [],
   "source": [
    "from custom.models import u_net\n",
    "model = u_net()\n",
    "model.cuda()\n",
    "optimizer = optim.Adam(model.parameters(), lr=1e-3)"
   ]
  },
  {
   "cell_type": "code",
   "execution_count": null,
   "metadata": {
    "collapsed": true
   },
   "outputs": [],
   "source": [
    "def train(epoch):\n",
    "    model.train()\n",
    "    train_loss = 0\n",
    "    for batch_idx, (input, target, weight) in enumerate(train_loader):\n",
    "        input = Variable(input).cuda()\n",
    "        target = Variable(target).cuda()\n",
    "        weight = Variable(weight).cuda()\n",
    "        optimizer.zero_grad()\n",
    "        output = model(input)\n",
    "        loss = loss_func(output, target, weight)\n",
    "        loss.backward()\n",
    "        train_loss += loss.data[0]\n",
    "        optimizer.step()\n",
    "\n",
    "    print('====> Epoch: {} Average loss: {:.4f}'.format(\n",
    "          epoch, train_loss / len(train_loader.dataset)))"
   ]
  },
  {
   "cell_type": "code",
   "execution_count": null,
   "metadata": {
    "collapsed": true
   },
   "outputs": [],
   "source": [
    "from torchvision.utils import save_image\n",
    "def test(epoch):\n",
    "    model.eval()\n",
    "    test_loss = 0\n",
    "    for i, (input, target, weight) in enumerate(test_loader):\n",
    "        input = Variable(input).cuda()\n",
    "        target = Variable(target).cuda()\n",
    "        weight = Variable(weight).cuda()\n",
    "        output = model(input)\n",
    "        test_loss += loss_func(output, target, weight).data[0]\n",
    "        if i == 0:\n",
    "            n = 8\n",
    "            comparison = torch.cat([input[:n], output[:n]])\n",
    "            save_image(comparison.data.cpu(),\n",
    "                     'results/reconstruction_' + str(epoch) + '.png', nrow=n)\n",
    "\n",
    "    test_loss /= len(test_loader.dataset)\n",
    "    print('====> Test set loss: {:.4f}'.format(test_loss))"
   ]
  },
  {
   "cell_type": "code",
   "execution_count": null,
   "metadata": {},
   "outputs": [],
   "source": [
    "epochs = 10\n",
    "for epoch in range(1, epochs + 1):\n",
    "    train(epoch)\n",
    "    test(epoch)\n",
    "#\n"
   ]
  }
 ],
 "metadata": {
  "kernelspec": {
   "display_name": "Python 3",
   "language": "python",
   "name": "python3"
  },
  "language_info": {
   "codemirror_mode": {
    "name": "ipython",
    "version": 3
   },
   "file_extension": ".py",
   "mimetype": "text/x-python",
   "name": "python",
   "nbconvert_exporter": "python",
   "pygments_lexer": "ipython3",
   "version": "3.6.2"
  }
 },
 "nbformat": 4,
 "nbformat_minor": 2
}
