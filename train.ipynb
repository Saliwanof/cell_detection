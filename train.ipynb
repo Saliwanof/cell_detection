{
 "cells": [
  {
   "cell_type": "code",
   "execution_count": 1,
   "metadata": {
    "collapsed": true
   },
   "outputs": [],
   "source": [
    "import torch\n",
    "from torch import optim\n",
    "from torch.autograd import Variable\n",
    "from torch.utils.data import DataLoader"
   ]
  },
  {
   "cell_type": "code",
   "execution_count": 2,
   "metadata": {
    "collapsed": true
   },
   "outputs": [],
   "source": [
    "from importlib import reload\n",
    "# import [module]\n",
    "# importlib.reload([module])"
   ]
  },
  {
   "cell_type": "code",
   "execution_count": 3,
   "metadata": {
    "collapsed": true
   },
   "outputs": [],
   "source": [
    "import numpy as np\n",
    "import matplotlib.pyplot as plt\n",
    "def show(x):\n",
    "    plt.imshow(x)\n",
    "    plt.show()"
   ]
  },
  {
   "cell_type": "markdown",
   "metadata": {},
   "source": [
    "import custom.datasets\n",
    "reload(custom.datasets)\n",
    "from custom.datasets import nuclei_dataset"
   ]
  },
  {
   "cell_type": "code",
   "execution_count": 4,
   "metadata": {},
   "outputs": [
    {
     "name": "stderr",
     "output_type": "stream",
     "text": [
      "/root/.pyenv/versions/anaconda3-4.4.0/lib/python3.6/site-packages/requests/__init__.py:80: RequestsDependencyWarning: urllib3 (1.16) or chardet (3.0.4) doesn't match a supported version!\n",
      "  RequestsDependencyWarning)\n"
     ]
    }
   ],
   "source": [
    "from custom.models import u_net\n",
    "from custom.utils import conditioned_inverse\n",
    "from custom.datasets import nuclei_dataset, nuclei_dataset_gen\n",
    "from custom.loss import weighted_bce_loss_with_logits as loss_func"
   ]
  },
  {
   "cell_type": "code",
   "execution_count": 5,
   "metadata": {},
   "outputs": [],
   "source": [
    "nuclei_dataset_df = nuclei_dataset_gen(path='../data/stage1_train/')"
   ]
  },
  {
   "cell_type": "code",
   "execution_count": 6,
   "metadata": {
    "collapsed": true
   },
   "outputs": [],
   "source": [
    "dataset = nuclei_dataset(nuclei_dataset_df)"
   ]
  },
  {
   "cell_type": "code",
   "execution_count": 7,
   "metadata": {
    "collapsed": true
   },
   "outputs": [],
   "source": [
    "train_loader = DataLoader(dataset,batch_size=8, shuffle=True)\n",
    "test_loader = DataLoader(nuclei_dataset(nuclei_dataset_df, train=False), batch_size=8)"
   ]
  },
  {
   "cell_type": "code",
   "execution_count": 8,
   "metadata": {
    "collapsed": true
   },
   "outputs": [],
   "source": [
    "from custom.models import u_net\n",
    "model = u_net()\n",
    "model.cuda()\n",
    "optimizer = optim.Adam(model.parameters(), lr=1e-3)"
   ]
  },
  {
   "cell_type": "code",
   "execution_count": 9,
   "metadata": {
    "collapsed": true
   },
   "outputs": [],
   "source": [
    "def train(epoch):\n",
    "    model.train()\n",
    "    train_loss = 0\n",
    "    for batch_idx, (input, target, weight) in enumerate(train_loader):\n",
    "        input = Variable(input).cuda()\n",
    "        target = Variable(target).cuda()\n",
    "        weight = Variable(weight).cuda()\n",
    "        optimizer.zero_grad()\n",
    "        output = model(input)\n",
    "        loss = loss_func(output, target, weight)\n",
    "        loss.backward()\n",
    "        train_loss += loss.data[0]\n",
    "        optimizer.step()\n",
    "\n",
    "    print('====> Epoch: {} Average loss: {:.4f}'.format(\n",
    "          epoch, train_loss / len(train_loader.dataset)))"
   ]
  },
  {
   "cell_type": "code",
   "execution_count": 10,
   "metadata": {
    "collapsed": true
   },
   "outputs": [],
   "source": [
    "from torchvision.utils import save_image\n",
    "def test(epoch):\n",
    "    model.eval()\n",
    "    test_loss = 0\n",
    "    for i, (input, target, weight) in enumerate(test_loader):\n",
    "        input = Variable(input).cuda()\n",
    "        target = Variable(target).cuda()\n",
    "        weight = Variable(weight).cuda()\n",
    "        output = model(input)\n",
    "        test_loss += loss_func(output, target, weight).data[0]\n",
    "        if i == 0:\n",
    "            n = 8\n",
    "            comparison = torch.cat([input[:n], output[:n]])\n",
    "            save_image(comparison.data.cpu(),\n",
    "                     './results/reconstruction_' + str(epoch) + '.png', nrow=n)\n",
    "\n",
    "    test_loss /= len(test_loader.dataset)\n",
    "    print('====> Test set loss: {:.4f}'.format(test_loss))"
   ]
  },
  {
   "cell_type": "code",
   "execution_count": 11,
   "metadata": {},
   "outputs": [
    {
     "name": "stdout",
     "output_type": "stream",
     "text": [
      "====> Epoch: 1 Average loss: 1.7509\n",
      "====> Test set loss: 1.7592\n",
      "====> Epoch: 2 Average loss: 1.7260\n",
      "====> Test set loss: 1.7690\n",
      "====> Epoch: 3 Average loss: 1.7304\n",
      "====> Test set loss: 1.7530\n",
      "====> Epoch: 4 Average loss: 1.7361\n",
      "====> Test set loss: 1.7663\n",
      "====> Epoch: 5 Average loss: 1.7431\n",
      "====> Test set loss: 1.7574\n",
      "====> Epoch: 6 Average loss: 1.7414\n",
      "====> Test set loss: 1.7517\n",
      "====> Epoch: 7 Average loss: 1.7389\n",
      "====> Test set loss: 1.7573\n",
      "====> Epoch: 8 Average loss: 1.7269\n",
      "====> Test set loss: 1.7472\n",
      "====> Epoch: 9 Average loss: 1.7416\n",
      "====> Test set loss: 1.7548\n",
      "====> Epoch: 10 Average loss: 1.7312\n",
      "====> Test set loss: 1.7693\n"
     ]
    }
   ],
   "source": [
    "epochs = 10\n",
    "for epoch in range(1, epochs + 1):\n",
    "    train(epoch)\n",
    "    test(epoch)\n",
    "#\n"
   ]
  }
 ],
 "metadata": {
  "kernelspec": {
   "display_name": "Python 3",
   "language": "python",
   "name": "python3"
  },
  "language_info": {
   "codemirror_mode": {
    "name": "ipython",
    "version": 3
   },
   "file_extension": ".py",
   "mimetype": "text/x-python",
   "name": "python",
   "nbconvert_exporter": "python",
   "pygments_lexer": "ipython3",
   "version": "3.6.2"
  }
 },
 "nbformat": 4,
 "nbformat_minor": 2
}
