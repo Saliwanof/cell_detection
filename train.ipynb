{
 "cells": [
  {
   "cell_type": "code",
   "execution_count": 1,
   "metadata": {
    "collapsed": true
   },
   "outputs": [],
   "source": [
    "import torch\n",
    "from torch import optim\n",
    "import torch.nn.functional as F\n",
    "from torch.autograd import Variable\n",
    "from torch.utils.data import DataLoader"
   ]
  },
  {
   "cell_type": "code",
   "execution_count": 2,
   "metadata": {
    "collapsed": true
   },
   "outputs": [],
   "source": [
    "from importlib import reload\n",
    "# import [module]\n",
    "# importlib.reload([module])"
   ]
  },
  {
   "cell_type": "code",
   "execution_count": 3,
   "metadata": {
    "collapsed": true
   },
   "outputs": [],
   "source": [
    "import numpy as np\n",
    "import matplotlib.pyplot as plt\n",
    "def show(x):\n",
    "    plt.imshow(x,'gray')\n",
    "    plt.show()"
   ]
  },
  {
   "cell_type": "raw",
   "metadata": {
    "collapsed": true
   },
   "source": [
    "import custom.models\n",
    "reload(custom.models)\n",
    "from custom.models import seg_net"
   ]
  },
  {
   "cell_type": "code",
   "execution_count": 4,
   "metadata": {},
   "outputs": [
    {
     "name": "stderr",
     "output_type": "stream",
     "text": [
      "/root/.pyenv/versions/anaconda3-4.4.0/lib/python3.6/site-packages/requests/__init__.py:80: RequestsDependencyWarning: urllib3 (1.16) or chardet (3.0.4) doesn't match a supported version!\n",
      "  RequestsDependencyWarning)\n"
     ]
    }
   ],
   "source": [
    "from custom.models import conv_SVM, seg_net\n",
    "from custom.utils import get_weight_c\n",
    "from custom.datasets import nuclei_dataset, nuclei_data\n",
    "from custom.loss import weighted_bce_loss_with_logits"
   ]
  },
  {
   "cell_type": "code",
   "execution_count": 5,
   "metadata": {},
   "outputs": [
    {
     "name": "stderr",
     "output_type": "stream",
     "text": [
      "/home/data/notebook/data/yujie/cell_segmentation/cell_detection/custom/datasets.py:141: RuntimeWarning: divide by zero encountered in double_scalars\n",
      "  weights[labels==l] = total_count * 1. / nl / l_count\n"
     ]
    }
   ],
   "source": [
    "dat = nuclei_data(path='../data/stage1_train/')\n",
    "# dat1 = nuclei_data(path='../data/stage1_train/', label=1)\n",
    "# dat2 = nuclei_data(path='../data/stage1_train/', label=2)\n",
    "\n",
    "train_loader = DataLoader(nuclei_dataset(dat, mode='train'),batch_size=16, shuffle=True)\n",
    "full_loader = DataLoader(nuclei_dataset(dat, mode='full'),batch_size=16, shuffle=True)\n",
    "test_loader = DataLoader(nuclei_dataset(dat, mode='eval'), batch_size=8)\n",
    "\n",
    "# train_loader1 = DataLoader(nuclei_dataset(dat1),batch_size=8, shuffle=True)\n",
    "# test_loader1 = DataLoader(nuclei_dataset(dat1, train=False), batch_size=8)\n",
    "\n",
    "# train_loader2 = DataLoader(nuclei_dataset(dat2),batch_size=16, shuffle=True)\n",
    "# test_loader2 = DataLoader(nuclei_dataset(dat2, train=False), batch_size=16)"
   ]
  },
  {
   "cell_type": "code",
   "execution_count": 6,
   "metadata": {},
   "outputs": [
    {
     "data": {
      "image/png": "[encoded data removed]",
      "text/plain": [
       "<matplotlib.figure.Figure at 0x7f1ad94b4cf8>"
      ]
     },
     "metadata": {},
     "output_type": "display_data"
    }
   ],
   "source": [
    "im, mask, dist, _ =dat[43]\n",
    "show(mask)"
   ]
  },
  {
   "cell_type": "code",
   "execution_count": 7,
   "metadata": {},
   "outputs": [],
   "source": [
    "model = seg_net()\n",
    "# model.load_state_dict(torch.load('./models/segnet_1'))\n",
    "# pretrained_filter = torch.load('./models/segnet_1')\n",
    "# model = conv_SVM()"
   ]
  },
  {
   "cell_type": "code",
   "execution_count": 8,
   "metadata": {
    "collapsed": true
   },
   "outputs": [
    {
     "data": {
      "text/plain": [
       "seg_net(\n",
       "  (conv_block_1): conv357_block(\n",
       "    (conv3): Conv2d(1, 64, kernel_size=(3, 3), stride=(1, 1), padding=(1, 1))\n",
       "    (conv5): Conv2d(1, 64, kernel_size=(5, 5), stride=(1, 1), padding=(2, 2))\n",
       "    (conv7): Conv2d(1, 64, kernel_size=(7, 7), stride=(1, 1), padding=(3, 3))\n",
       "    (norm): BatchNorm2d(192, eps=1e-05, momentum=0.1, affine=True)\n",
       "  )\n",
       "  (conv_block_2): conv357_block(\n",
       "    (conv3): Conv2d(192, 32, kernel_size=(3, 3), stride=(1, 1), padding=(1, 1))\n",
       "    (conv5): Conv2d(192, 32, kernel_size=(5, 5), stride=(1, 1), padding=(2, 2))\n",
       "    (conv7): Conv2d(192, 32, kernel_size=(7, 7), stride=(1, 1), padding=(3, 3))\n",
       "    (norm): BatchNorm2d(96, eps=1e-05, momentum=0.1, affine=True)\n",
       "  )\n",
       "  (conv_block_3): conv357_block(\n",
       "    (conv3): Conv2d(96, 16, kernel_size=(3, 3), stride=(1, 1), padding=(1, 1))\n",
       "    (conv5): Conv2d(96, 16, kernel_size=(5, 5), stride=(1, 1), padding=(2, 2))\n",
       "    (conv7): Conv2d(96, 16, kernel_size=(7, 7), stride=(1, 1), padding=(3, 3))\n",
       "    (norm): BatchNorm2d(48, eps=1e-05, momentum=0.1, affine=True)\n",
       "  )\n",
       "  (conv_block_4): conv357_block(\n",
       "    (conv3): Conv2d(48, 1, kernel_size=(3, 3), stride=(1, 1), padding=(1, 1))\n",
       "    (conv5): Conv2d(48, 1, kernel_size=(5, 5), stride=(1, 1), padding=(2, 2))\n",
       "    (conv7): Conv2d(48, 1, kernel_size=(7, 7), stride=(1, 1), padding=(3, 3))\n",
       "    (norm): BatchNorm2d(3, eps=1e-05, momentum=0.1, affine=True)\n",
       "  )\n",
       "  (conv5): Conv2d(3, 1, kernel_size=(1, 1), stride=(1, 1))\n",
       ")"
      ]
     },
     "execution_count": 8,
     "metadata": {},
     "output_type": "execute_result"
    }
   ],
   "source": [
    "model.cuda()"
   ]
  },
  {
   "cell_type": "code",
   "execution_count": 9,
   "metadata": {
    "collapsed": true
   },
   "outputs": [],
   "source": [
    "optimizer = optim.Adam(model.parameters(), lr=1e-3)\n",
    "# optimizer = optim.SGD(model.parameters(), lr=1e-4, momentum=0.9)"
   ]
  },
  {
   "cell_type": "code",
   "execution_count": 10,
   "metadata": {
    "collapsed": true
   },
   "outputs": [],
   "source": [
    "loss_func = weighted_bce_loss_with_logits\n",
    "# loss_func = lambda x, y, z: F.hinge_embedding_loss(x, (y-.5)*2)"
   ]
  },
  {
   "cell_type": "code",
   "execution_count": 11,
   "metadata": {
    "collapsed": true
   },
   "outputs": [],
   "source": [
    "from torchvision.utils import save_image\n",
    "to_cuda_var = lambda x: Variable(x.float()).cuda()\n",
    "def train(epoch):\n",
    "    model.train()\n",
    "    train_loss = 0\n",
    "    for batch_idx, (im, mask, dist, wt) in enumerate(train_loader):\n",
    "        weight = get_weight_c(mask, factor01=(.5, .5)) + 10. * np.exp(-np.power(dist.numpy(), 2) / 25.)\n",
    "        weight = weight * wt.numpy().reshape((-1, 1, 1, 1))\n",
    "        weight = torch.from_numpy(weight)\n",
    "        input, target, weight = to_cuda_var(im), to_cuda_var(mask), to_cuda_var(weight)\n",
    "        \n",
    "        optimizer.zero_grad()\n",
    "        output = model(input)\n",
    "        loss = loss_func(output, target, weight)\n",
    "        loss.backward()\n",
    "        train_loss += loss.data[0]\n",
    "        optimizer.step()\n",
    "        \n",
    "        if batch_idx == 0:\n",
    "            n = 8\n",
    "            comparison = torch.cat([input[:n], output[:n]])\n",
    "            save_image(comparison.data.cpu(),\n",
    "                     './results/train_' + str(epoch) + '.png', nrow=n)\n",
    "\n",
    "    print('====> Epoch: {} Average loss: {:.4f}'.format(\n",
    "          epoch, train_loss / len(train_loader.dataset)))"
   ]
  },
  {
   "cell_type": "code",
   "execution_count": 12,
   "metadata": {
    "collapsed": true
   },
   "outputs": [],
   "source": [
    "from torchvision.utils import save_image\n",
    "to_cuda_var = lambda x: Variable(x.float()).cuda()\n",
    "from torch.nn.functional import threshold\n",
    "def test(epoch):\n",
    "    model.eval()\n",
    "    test_loss = 0\n",
    "    for i, (im, mask, dist, _) in enumerate(test_loader):\n",
    "        weight = get_weight_c(mask, factor01=(.5, .5)) + 10. * np.exp(-np.power(dist.numpy(), 2) / 25.)\n",
    "        weight = torch.from_numpy(weight)\n",
    "        input, target, weight = to_cuda_var(im), to_cuda_var(mask), to_cuda_var(weight)\n",
    "        output = model(input)\n",
    "        test_loss += loss_func(output, target, weight).data[0]\n",
    "        label = threshold(-threshold(output, .5, 0, inplace=True), -.5, 1, inplace=True)\n",
    "        if i == 0:\n",
    "            n = 8\n",
    "            comparison = torch.cat([input[:n], label[:n]])\n",
    "            save_image(comparison.data.cpu(),\n",
    "                     './results/test_' + str(epoch) + '.png', nrow=n)\n",
    "\n",
    "    test_loss /= len(test_loader.dataset)\n",
    "    print('====> Test set loss: {:.4f}'.format(test_loss))"
   ]
  },
  {
   "cell_type": "code",
   "execution_count": 13,
   "metadata": {
    "scrolled": false
   },
   "outputs": [
    {
     "name": "stdout",
     "output_type": "stream",
     "text": [
      "====> Epoch: 1 Average loss: 0.0429\n",
      "====> Test set loss: 3.0186\n",
      "====> Epoch: 2 Average loss: 0.0428\n",
      "====> Test set loss: 2.9988\n",
      "====> Epoch: 3 Average loss: 0.0424\n",
      "====> Test set loss: 2.2721\n",
      "====> Epoch: 4 Average loss: 0.0402\n",
      "====> Test set loss: 3.5360\n",
      "====> Epoch: 5 Average loss: 0.0409\n",
      "====> Test set loss: 3.2760\n",
      "====> Epoch: 6 Average loss: 0.0404\n",
      "====> Test set loss: 2.7950\n",
      "====> Epoch: 7 Average loss: 0.0461\n",
      "====> Test set loss: 2.8140\n",
      "====> Epoch: 8 Average loss: 0.0391\n",
      "====> Test set loss: 2.6991\n",
      "====> Epoch: 9 Average loss: 0.0374\n",
      "====> Test set loss: 2.0996\n",
      "====> Epoch: 10 Average loss: 0.0378\n",
      "====> Test set loss: 2.6406\n",
      "====> Epoch: 11 Average loss: 0.0359\n",
      "====> Test set loss: 2.6296\n",
      "====> Epoch: 12 Average loss: 0.0374\n",
      "====> Test set loss: 2.5880\n",
      "====> Epoch: 13 Average loss: 0.0358\n",
      "====> Test set loss: 2.5064\n",
      "====> Epoch: 14 Average loss: 0.0356\n",
      "====> Test set loss: 1.9194\n",
      "====> Epoch: 15 Average loss: 0.0341\n",
      "====> Test set loss: 2.5104\n",
      "====> Epoch: 16 Average loss: 0.0334\n",
      "====> Test set loss: 1.9086\n",
      "====> Epoch: 17 Average loss: 0.0348\n",
      "====> Test set loss: 1.9289\n",
      "====> Epoch: 18 Average loss: 0.0335\n",
      "====> Test set loss: 2.3994\n",
      "====> Epoch: 19 Average loss: 0.0342\n",
      "====> Test set loss: 2.3787\n",
      "====> Epoch: 20 Average loss: 0.0326\n",
      "====> Test set loss: 2.3562\n"
     ]
    }
   ],
   "source": [
    "torch.cuda.empty_cache()\n",
    "epochs = 20\n",
    "for epoch in range(1, epochs + 1):\n",
    "    train(epoch)\n",
    "    test(epoch)\n",
    "#\n"
   ]
  },
  {
   "cell_type": "code",
   "execution_count": 14,
   "metadata": {
    "collapsed": true
   },
   "outputs": [],
   "source": [
    "torch.save(model.state_dict(), './models/segnet_1')"
   ]
  }
 ],
 "metadata": {
  "kernelspec": {
   "display_name": "Python 3",
   "language": "python",
   "name": "python3"
  },
  "language_info": {
   "codemirror_mode": {
    "name": "ipython",
    "version": 3
   },
   "file_extension": ".py",
   "mimetype": "text/x-python",
   "name": "python",
   "nbconvert_exporter": "python",
   "pygments_lexer": "ipython3",
   "version": "3.6.2"
  }
 },
 "nbformat": 4,
 "nbformat_minor": 2
}
