{
 "cells": [
  {
   "cell_type": "code",
   "execution_count": 1,
   "metadata": {
    "collapsed": true
   },
   "outputs": [],
   "source": [
    "import torch\n",
    "from torch import optim\n",
    "import torch.nn.functional as F\n",
    "from torch.autograd import Variable\n",
    "from torch.utils.data import DataLoader"
   ]
  },
  {
   "cell_type": "code",
   "execution_count": 2,
   "metadata": {},
   "outputs": [
    {
     "name": "stderr",
     "output_type": "stream",
     "text": [
      "/root/.pyenv/versions/anaconda3-4.4.0/lib/python3.6/site-packages/requests/__init__.py:80: RequestsDependencyWarning: urllib3 (1.16) or chardet (3.0.4) doesn't match a supported version!\n",
      "  RequestsDependencyWarning)\n"
     ]
    }
   ],
   "source": [
    "from custom.models import seg_net\n",
    "from custom.utils import rle_encoding\n",
    "from custom.datasets import nuclei_dataset, nuclei_data"
   ]
  },
  {
   "cell_type": "code",
   "execution_count": 3,
   "metadata": {
    "collapsed": true
   },
   "outputs": [],
   "source": [
    "import pandas as pd\n",
    "import numpy as np"
   ]
  },
  {
   "cell_type": "code",
   "execution_count": 4,
   "metadata": {
    "collapsed": true
   },
   "outputs": [],
   "source": [
    "dat = nuclei_data(path='../data/stage1_test/', test=True)\n",
    "test_loader = DataLoader(nuclei_dataset(dat, test=True), batch_size=1)"
   ]
  },
  {
   "cell_type": "code",
   "execution_count": 5,
   "metadata": {},
   "outputs": [
    {
     "data": {
      "text/plain": [
       "seg_net(\n",
       "  (conv_block_1): conv357_block(\n",
       "    (conv3): Conv2d(1, 32, kernel_size=(3, 3), stride=(1, 1), padding=(1, 1))\n",
       "    (conv5): Conv2d(1, 32, kernel_size=(5, 5), stride=(1, 1), padding=(2, 2))\n",
       "    (conv7): Conv2d(1, 32, kernel_size=(7, 7), stride=(1, 1), padding=(3, 3))\n",
       "    (norm): BatchNorm2d(96, eps=1e-05, momentum=0.1, affine=True)\n",
       "  )\n",
       "  (conv_block_2): conv357_block(\n",
       "    (conv3): Conv2d(96, 32, kernel_size=(3, 3), stride=(1, 1), padding=(1, 1))\n",
       "    (conv5): Conv2d(96, 32, kernel_size=(5, 5), stride=(1, 1), padding=(2, 2))\n",
       "    (conv7): Conv2d(96, 32, kernel_size=(7, 7), stride=(1, 1), padding=(3, 3))\n",
       "    (norm): BatchNorm2d(96, eps=1e-05, momentum=0.1, affine=True)\n",
       "  )\n",
       "  (conv_block_3): conv357_block(\n",
       "    (conv3): Conv2d(96, 1, kernel_size=(3, 3), stride=(1, 1), padding=(1, 1))\n",
       "    (conv5): Conv2d(96, 1, kernel_size=(5, 5), stride=(1, 1), padding=(2, 2))\n",
       "    (conv7): Conv2d(96, 1, kernel_size=(7, 7), stride=(1, 1), padding=(3, 3))\n",
       "    (norm): BatchNorm2d(3, eps=1e-05, momentum=0.1, affine=True)\n",
       "  )\n",
       "  (conv4): Conv2d(3, 1, kernel_size=(1, 1), stride=(1, 1))\n",
       ")"
      ]
     },
     "execution_count": 5,
     "metadata": {},
     "output_type": "execute_result"
    }
   ],
   "source": [
    "model = seg_net()\n",
    "model.load_state_dict(torch.load('./models/segnet_2'))\n",
    "model.cuda()"
   ]
  },
  {
   "cell_type": "code",
   "execution_count": 6,
   "metadata": {},
   "outputs": [],
   "source": [
    "to_cuda_var = lambda x: Variable(x.float()).cuda()\n",
    "from torch.nn.functional import threshold\n",
    "from torchvision.utils import save_image\n",
    "def test():\n",
    "    model.eval()\n",
    "    rle_codes = []\n",
    "    for i, im in enumerate(test_loader):\n",
    "        input = to_cuda_var(im)\n",
    "        output = model(input)\n",
    "        label = threshold(-threshold(output, .5, 0, inplace=True), -.5, 1, inplace=True)\n",
    "        save_image(label.data.cpu(),'./results_test/' + str(i) + '.png', nrow=1)\n",
    "        \n",
    "        label = label.data.cpu().numpy()\n",
    "        rle_codes.append(rle_encoding(label))\n",
    "\n",
    "    return rle_codes"
   ]
  },
  {
   "cell_type": "code",
   "execution_count": 7,
   "metadata": {},
   "outputs": [],
   "source": [
    "rle_codes = test()\n",
    "im_ids = dat.im_ids"
   ]
  },
  {
   "cell_type": "code",
   "execution_count": 8,
   "metadata": {
    "collapsed": true
   },
   "outputs": [],
   "source": [
    "df = pd.DataFrame({'ImageId': im_ids, 'EncodedPixels': rle_codes})\n",
    "df = df[['ImageId', 'EncodedPixels']]"
   ]
  },
  {
   "cell_type": "code",
   "execution_count": 9,
   "metadata": {
    "collapsed": true
   },
   "outputs": [],
   "source": [
    "df.to_csv('submission.csv', index=False)"
   ]
  },
  {
   "cell_type": "code",
   "execution_count": 10,
   "metadata": {
    "collapsed": true,
    "scrolled": true
   },
   "outputs": [],
   "source": [
    "# df = pd.DataFrame.from_csv('submission.csv')"
   ]
  }
 ],
 "metadata": {
  "kernelspec": {
   "display_name": "Python 3",
   "language": "python",
   "name": "python3"
  },
  "language_info": {
   "codemirror_mode": {
    "name": "ipython",
    "version": 3
   },
   "file_extension": ".py",
   "mimetype": "text/x-python",
   "name": "python",
   "nbconvert_exporter": "python",
   "pygments_lexer": "ipython3",
   "version": "3.6.2"
  }
 },
 "nbformat": 4,
 "nbformat_minor": 2
}
