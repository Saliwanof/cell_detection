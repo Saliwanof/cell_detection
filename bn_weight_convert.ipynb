{
 "cells": [
  {
   "cell_type": "code",
   "execution_count": 1,
   "metadata": {
    "collapsed": true
   },
   "outputs": [],
   "source": [
    "import torch"
   ]
  },
  {
   "cell_type": "code",
   "execution_count": 2,
   "metadata": {
    "collapsed": true
   },
   "outputs": [],
   "source": [
    "bndat = torch.load('./models/bn_1')"
   ]
  },
  {
   "cell_type": "code",
   "execution_count": 3,
   "metadata": {},
   "outputs": [
    {
     "name": "stdout",
     "output_type": "stream",
     "text": [
      "conv11.weight\n",
      "conv11.bias\n",
      "conv12.weight\n",
      "conv12.bias\n",
      "conv21.weight\n",
      "conv22.weight\n",
      "conv22.bias\n",
      "conv31.weight\n",
      "conv32.weight\n",
      "conv32.bias\n",
      "conv41.weight\n",
      "conv42.weight\n",
      "conv42.bias\n",
      "conv51.weight\n",
      "conv52.weight\n",
      "conv52.bias\n",
      "conv61.weight\n",
      "conv62.weight\n",
      "conv62.bias\n",
      "conv71.weight\n",
      "conv72.weight\n",
      "conv72.bias\n",
      "unconv1.weight\n",
      "unconv2.weight\n",
      "unconv3.weight\n",
      "conv01.weight\n",
      "norm01.running_mean\n",
      "norm01.running_var\n",
      "norm02.running_mean\n",
      "norm02.running_var\n",
      "norm03.running_mean\n",
      "norm03.running_var\n",
      "norm04.running_mean\n",
      "norm04.running_var\n",
      "norm05.running_mean\n",
      "norm05.running_var\n",
      "norm06.running_mean\n",
      "norm06.running_var\n",
      "norm07.running_mean\n",
      "norm07.running_var\n"
     ]
    }
   ],
   "source": [
    "for key in bndat:\n",
    "    print(key)"
   ]
  },
  {
   "cell_type": "code",
   "execution_count": 4,
   "metadata": {},
   "outputs": [],
   "source": [
    "for i in range(1, 8):\n",
    "    weight_name = 'conv' + str(i) + '2.weight'\n",
    "    bias_name = 'conv' + str(i) + '2.bias'\n",
    "    var_name = 'norm0' + str(i) + '.running_var'\n",
    "    mean_name = 'norm0' + str(i) + '.running_mean'\n",
    "    w = bndat[weight_name]\n",
    "    v = bndat[var_name]\n",
    "    m = bndat[mean_name]\n",
    "    b = bndat[bias_name] \n",
    "    b.add_(-m).div_(v)\n",
    "    w.div_(v.unsqueeze_(1).unsqueeze_(2).unsqueeze_(3))"
   ]
  },
  {
   "cell_type": "code",
   "execution_count": 5,
   "metadata": {
    "collapsed": true
   },
   "outputs": [],
   "source": [
    "norm_keys = []\n",
    "for key in bndat:\n",
    "    if 'norm' in key: norm_keys.append(key)\n",
    "for key in norm_keys:\n",
    "    bndat.pop(key)"
   ]
  },
  {
   "cell_type": "code",
   "execution_count": 6,
   "metadata": {
    "collapsed": true
   },
   "outputs": [],
   "source": [
    "torch.save(bndat, './models/unbn_1')"
   ]
  },
  {
   "cell_type": "code",
   "execution_count": 7,
   "metadata": {
    "collapsed": true
   },
   "outputs": [
    {
     "name": "stdout",
     "output_type": "stream",
     "text": [
      "conv11.weight\n",
      "conv11.bias\n",
      "conv12.weight\n",
      "conv12.bias\n",
      "conv21.weight\n",
      "conv22.weight\n",
      "conv22.bias\n",
      "conv31.weight\n",
      "conv32.weight\n",
      "conv32.bias\n",
      "conv41.weight\n",
      "conv42.weight\n",
      "conv42.bias\n",
      "conv51.weight\n",
      "conv52.weight\n",
      "conv52.bias\n",
      "conv61.weight\n",
      "conv62.weight\n",
      "conv62.bias\n",
      "conv71.weight\n",
      "conv72.weight\n",
      "conv72.bias\n",
      "unconv1.weight\n",
      "unconv2.weight\n",
      "unconv3.weight\n",
      "conv01.weight\n"
     ]
    }
   ],
   "source": [
    "for key in bndat:\n",
    "    print(key)"
   ]
  },
  {
   "cell_type": "code",
   "execution_count": null,
   "metadata": {
    "collapsed": true
   },
   "outputs": [],
   "source": []
  }
 ],
 "metadata": {
  "kernelspec": {
   "display_name": "Python 3",
   "language": "python",
   "name": "python3"
  },
  "language_info": {
   "codemirror_mode": {
    "name": "ipython",
    "version": 3
   },
   "file_extension": ".py",
   "mimetype": "text/x-python",
   "name": "python",
   "nbconvert_exporter": "python",
   "pygments_lexer": "ipython3",
   "version": "3.6.2"
  }
 },
 "nbformat": 4,
 "nbformat_minor": 2
}
